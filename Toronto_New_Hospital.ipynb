{
 "cells": [
  {
   "cell_type": "markdown",
   "metadata": {},
   "source": [
    "<h1 align=center>New hospital in Greater Toronto area</h1>"
   ]
  },
  {
   "cell_type": "markdown",
   "metadata": {},
   "source": [
    "## Introduction\n",
    "\n",
    "With the increase in the population in the Greater Toronto area, the current health centers are increasingly beyond their capacity. Regional authorities and the Ontario Ministry of Health are considering the construction of a new hospital in the region.\n",
    "In addition to the available space, authorities need to consider population density in order to implement this new infrastructure.\n",
    "\n",
    "This study will offer an optimal solution based on geographic and demographic information from the Greater Toronto area to find the ideal place to build the new hospital."
   ]
  },
  {
   "cell_type": "markdown",
   "metadata": {},
   "source": [
    "## Description of the Project Dataset \n",
    "\n",
    "In this project we will use the data set from Statistics Canada, the federal agency established to produce statistics on Canada: \n",
    "https://www12.statcan.gc.ca/census-recensement/2016/dp-pd/hlt-fst/pd-pl/Table.cfm?Lang=Eng&T=304&SR=46&S=87&O=A&RPP=5&PR=35&CMA=0&CSD=0\n",
    "\n",
    "This dataset from 2016 census will be used to retreive information related to Greater Toronto area, densities of every neighborhoods.\n",
    "\n",
    "Then, we use the Foursquare API to explore neighborhoods in that area. The explore function will be used to get the existing health centers in each minicipalities. Then the Folium library will help to visualize the neighborhoods and their densities. With the k-means clustering algorithm, we will set up an optimal solution for an additional hospital that is taken account the current hospital locations and the population density.\n"
   ]
  },
  {
   "cell_type": "code",
   "execution_count": null,
   "metadata": {},
   "outputs": [],
   "source": []
  }
 ],
 "metadata": {
  "kernelspec": {
   "display_name": "Python",
   "language": "python",
   "name": "conda-env-python-py"
  },
  "language_info": {
   "codemirror_mode": {
    "name": "ipython",
    "version": 3
   },
   "file_extension": ".py",
   "mimetype": "text/x-python",
   "name": "python",
   "nbconvert_exporter": "python",
   "pygments_lexer": "ipython3",
   "version": "3.6.10"
  }
 },
 "nbformat": 4,
 "nbformat_minor": 4
}
